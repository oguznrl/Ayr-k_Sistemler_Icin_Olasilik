{
 "cells": [
  {
   "cell_type": "markdown",
   "metadata": {},
   "source": [
    "##### Bir Şirkette Ağındaki Cihazların Bir Gateway İçersinde Ip Bloklarına Kaç Farklı Şekilde Yerleştirilebilir Veya Seçilebilir\n",
    "\n",
    "Bir şirket ağında Gateway olarak 192.168.3.x şekilinde belirtilmiştir. Belirtilen x değerine göre IP bloğu oluşmaktadır. IP blok sayısı (255 - x - 2) şeklinde formülize edilebilir. Bu formülde 255 x'in alabileceği maksimum değer ve 2 ise sistem tarafından rezerve edilmiş IP bloğu sayısıdır (0 IP ve hepsinin 1 olduğu broadcast durumu.). \n",
    "Buna girilen cihaz sayısına göre ilgili IP bloklarına kaç farklı şekilde atama yapılabileceği (sıralama) ve kaç farklı şekilde IP bloklarına cihaz seçilebileceği aşağıda belirtilmiştir."
   ]
  },
  {
   "cell_type": "code",
   "execution_count": 14,
   "metadata": {},
   "outputs": [
    {
     "name": "stdout",
     "output_type": "stream",
     "text": [
      "17 tane cihaz 1028160 farklı sekilde 13 tane IP bloklarina atanabilir\n",
      "17 tane cihaz 42840.0 farklı sekilde 13 tane IP bloklarina secilebilir\n"
     ]
    }
   ],
   "source": [
    "number_of_device = 17\n",
    "gateway_num = 240\n",
    "\n",
    "\n",
    "# IP blok sayisini bulmaktadir.\n",
    "def find_absolute_ip_block_num(x):\n",
    "    return (255 - x - 2)\n",
    "\n",
    "# Cihazlarin kaç farkli sekilde IP blokalarina atanabilecegi ile ilgili permutasyon hesabi \n",
    "def permutation(n,r):\n",
    "    res=1\n",
    "    for i in range(n+1,1,-1):\n",
    "        if(i==r):\n",
    "            break\n",
    "        res*=i\n",
    "    return res\n",
    "\n",
    "# Cihazlarin kaç farkli sekilde IP blokalarina secilebilecegi ile ilgili kombinasyon hesabi \n",
    "def combination(n,r):\n",
    "    res=1\n",
    "    n_minus_r_factoriel = 1\n",
    "    for i in range(n+1,1,-1):\n",
    "        if(i==r):\n",
    "            break\n",
    "        res*=i\n",
    "    for i in range(1,(n-r)+1):\n",
    "        r_factoriel*=i\n",
    "    return res/r_factoriel\n",
    "\n",
    "block_number = find_absolute_ip_block_num(gateway_num)\n",
    "permutation_res = permutation(number_of_device,block_number)\n",
    "combination_res = combination(number_of_device,block_number)\n",
    "\n",
    "print(f\"{number_of_device} tane cihaz {permutation_res} farklı sekilde {block_number} tane IP bloklarina atanabilir\")\n",
    "print(f\"{number_of_device} tane cihaz {combination_res} farklı sekilde {block_number} tane IP bloklarina secilebilir\")"
   ]
  }
 ],
 "metadata": {
  "kernelspec": {
   "display_name": "Python 3",
   "language": "python",
   "name": "python3"
  },
  "language_info": {
   "codemirror_mode": {
    "name": "ipython",
    "version": 3
   },
   "file_extension": ".py",
   "mimetype": "text/x-python",
   "name": "python",
   "nbconvert_exporter": "python",
   "pygments_lexer": "ipython3",
   "version": "3.10.12"
  }
 },
 "nbformat": 4,
 "nbformat_minor": 2
}
