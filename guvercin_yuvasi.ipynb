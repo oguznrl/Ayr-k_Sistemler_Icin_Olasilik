{
 "cells": [
  {
   "cell_type": "markdown",
   "metadata": {},
   "source": [
    "##### Baz İstasyonu Slot Başına Düşen Kullanıcı Sayısı\n",
    "\n",
    "Bir baz istasyonunda kapsama alanı içersinde 52143 kullanıcı yer almaktadır. Bu baz istasyonunda slot başına düşen kullanıcı sayısına göre , sevis kullanımı önceliklendirme için maliyet hesabı yapılacaktır. Bu baz istasyonunda 4740 tane slot içermektedir. Baz istasyonunda yer alan slotlar en fazla 11 kullanıcıyı desteklemektedir. Bu değeri aşım durumunda kalan kullanıcılar kapsama alanı içersinde diğer baz istasyonuna yönlendirilecektir. Aşağıdaki python kodunda güvercin yuvası ilkesi ile kalan kullanıcı olup olmadğını ver her bir slota en az kaç kullanıcı önceliklendirilmesi gerektiğini gösterilmektedir.\n"
   ]
  },
  {
   "cell_type": "code",
   "execution_count": 1,
   "metadata": {},
   "outputs": [
    {
     "name": "stdout",
     "output_type": "stream",
     "text": [
      "En az bir slota 11'den fazla kullanici dusmektedir.606 tane kullanici diger baz istasyonlara aktarilmasi gerekmektedir\n"
     ]
    }
   ],
   "source": [
    "kullanici_sayisi = 52746\n",
    "slot_sayisi = 4740\n",
    "\n",
    "def piegon_4_base_station(num_of_edgedevice,num_of_station_slot):\n",
    "    number_of_per_slot = 0\n",
    "    num_of_user = num_of_edgedevice\n",
    "    slotted_number = 0\n",
    "    slots_is_fulled = False\n",
    "    if(num_of_edgedevice>0):\n",
    "        number_of_per_slot = 1\n",
    "    else:\n",
    "        return slots_is_fulled,num_of_user\n",
    "    #her slota bir kullanıcı baglanmasi yapilmaktadir\n",
    "    for i in range(num_of_edgedevice):\n",
    "        num_of_user-=1\n",
    "        slotted_number+=1\n",
    "        if((slotted_number%num_of_station_slot)==0):\n",
    "            number_of_per_slot+=1   # Toplam slot sayisina erisildiginde her bir slota yer alan kullanici sayisi bir arttirilmakta. \n",
    "                                    # Bu her bir kullaniciya yerlesen guvercin sayisini gostermektedir. \n",
    "        if(number_of_per_slot>11 and num_of_user!=0):  \n",
    "            slots_is_fulled=True    # Eger en az bir baz istasyonu 11 kullanciyi asmakta ise yeteri kullanici sayisina erisildigini belirtmektedir.\n",
    "            break\n",
    "        elif (number_of_per_slot>11 and num_of_user==0):\n",
    "            number_of_per_slot-=1\n",
    "            break\n",
    "        else:\n",
    "            continue\n",
    "\n",
    "    return slots_is_fulled,number_of_per_slot,num_of_user\n",
    "\n",
    "\n",
    "res=piegon_4_base_station(kullanici_sayisi,slot_sayisi)\n",
    "\n",
    "if(res[0]):\n",
    "    print(f\"En az bir slota 11'den fazla kullanici dusmektedir.{res[2]} tane kullanici diger baz istasyonlara aktarilmasi gerekmektedir\")\n",
    "else:\n",
    "    print(f\"En az bir slota {res[1]} kullanici dusmektedir.\")"
   ]
  }
 ],
 "metadata": {
  "kernelspec": {
   "display_name": "Python 3",
   "language": "python",
   "name": "python3"
  },
  "language_info": {
   "codemirror_mode": {
    "name": "ipython",
    "version": 3
   },
   "file_extension": ".py",
   "mimetype": "text/x-python",
   "name": "python",
   "nbconvert_exporter": "python",
   "pygments_lexer": "ipython3",
   "version": "3.10.12"
  }
 },
 "nbformat": 4,
 "nbformat_minor": 2
}
