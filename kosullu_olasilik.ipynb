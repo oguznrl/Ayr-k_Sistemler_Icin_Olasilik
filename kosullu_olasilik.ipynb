{
 "cells": [
  {
   "cell_type": "markdown",
   "metadata": {},
   "source": [
    "# Daire Kiralanma Onay Sistemi\n",
    "\n",
    "Gerçekleştirilen çalışmada bir kümede seçilen bir kişinin belirlenmiş bir cinsiyette belirli bir mesleğe sahip olan kişinin seçilme ihtimali hesaplanmıştır.\n",
    "\n",
    "Gerçekleştirilen koşullu olasılık hesabı:\n",
    "\n",
    "Seçilen Cinsiyetin seçilme ihtimali * Seçilen cinsiyet grubu içersinde belirlenen meslek grubunun seçilme ihtimali"
   ]
  },
  {
   "cell_type": "code",
   "execution_count": 19,
   "metadata": {},
   "outputs": [
    {
     "name": "stdout",
     "output_type": "stream",
     "text": [
      "   age  gender  occupation education_level marital_status  income  \\\n",
      "0   32    Male    Engineer      Bachelor's        Married   85000   \n",
      "1   45  Female     Teacher        Master's         Single   62000   \n",
      "2   28    Male     Student     High School         Single   25000   \n",
      "3   51  Female     Manager      Bachelor's        Married  105000   \n",
      "4   36    Male  Accountant      Bachelor's        Married   75000   \n",
      "\n",
      "   credit_score loan_status  \n",
      "0           720    Approved  \n",
      "1           680    Approved  \n",
      "2           590      Denied  \n",
      "3           780    Approved  \n",
      "4           710    Approved  \n"
     ]
    }
   ],
   "source": [
    "\n",
    "# Import pandas\n",
    "import pandas as pd\n",
    " \n",
    "# reading csv file \n",
    "df = pd.read_csv(\"loan.csv\")\n",
    "print(df.head())\n"
   ]
  },
  {
   "cell_type": "code",
   "execution_count": 24,
   "metadata": {},
   "outputs": [],
   "source": [
    "#Cinsiyet durumuna gore onay ihtimali\n",
    "def gender_probability(gender):\n",
    "    df_by_approved = df.loc[df['loan_status'].isin(['Approved'])]\n",
    "    number_of_approve_by_gender=df_by_approved['gender'].value_counts()[gender]\n",
    "    number_of_gender = len(df_by_approved)\n",
    "    return number_of_approve_by_gender/number_of_gender"
   ]
  },
  {
   "cell_type": "code",
   "execution_count": 25,
   "metadata": {},
   "outputs": [],
   "source": [
    "#Meslek durumuna gore onay ihtimali\n",
    "def occupation_probability(gender,occupation):\n",
    "    df_by_approved = df.loc[df['loan_status'].isin(['Approved'])].loc[df['gender'].isin([gender])]\n",
    "    number_of_approve_by_occupation = df_by_approved['occupation'].value_counts()[occupation]\n",
    "    number_of_occupation = len(df_by_approved)\n",
    "    return number_of_approve_by_occupation/number_of_occupation"
   ]
  },
  {
   "cell_type": "code",
   "execution_count": 26,
   "metadata": {},
   "outputs": [],
   "source": [
    "# Koşullu olasilik hesabi\n",
    "def conditional_probability(gender,occupation):\n",
    "    return occupation_probability(gender,occupation)*gender_probability(gender)"
   ]
  },
  {
   "cell_type": "code",
   "execution_count": 27,
   "metadata": {},
   "outputs": [
    {
     "data": {
      "text/plain": [
       "0.04444444444444444"
      ]
     },
     "execution_count": 27,
     "metadata": {},
     "output_type": "execute_result"
    }
   ],
   "source": [
    "conditional_probability('Female','Teacher') # Kadinlar arasında bir öğretmenin daire kiralama başvurusunda onay alma ihtimali"
   ]
  }
 ],
 "metadata": {
  "kernelspec": {
   "display_name": "Python 3",
   "language": "python",
   "name": "python3"
  },
  "language_info": {
   "codemirror_mode": {
    "name": "ipython",
    "version": 3
   },
   "file_extension": ".py",
   "mimetype": "text/x-python",
   "name": "python",
   "nbconvert_exporter": "python",
   "pygments_lexer": "ipython3",
   "version": "3.10.12"
  }
 },
 "nbformat": 4,
 "nbformat_minor": 2
}
